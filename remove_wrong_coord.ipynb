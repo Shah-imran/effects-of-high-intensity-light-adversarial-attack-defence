{
 "cells": [
  {
   "cell_type": "code",
   "execution_count": 3,
   "metadata": {},
   "outputs": [],
   "source": [
    "from PIL import Image\n",
    "import numpy as np\n",
    "import os"
   ]
  },
  {
   "cell_type": "code",
   "execution_count": 26,
   "metadata": {},
   "outputs": [],
   "source": [
    "input_dir = \"data/obj\"\n",
    "list_of_files = os.listdir(input_dir)\n",
    "\n",
    "for item in list_of_files:\n",
    "    if \".txt\" in item:\n",
    "        \n",
    "        file_name = item.replace(\".txt\", \"\")\n",
    "\n",
    "        with open(f\"{input_dir}/{file_name}.txt\", \"r+\", encoding=\"utf-8\") as txt_file:\n",
    "            bbox_data = txt_file.read().strip()\n",
    "            if len(bbox_data) > 0:\n",
    "                if bbox_data[-1] == '\\n':\n",
    "                    bbox_data = bbox_data[:-1]\n",
    "                bbox_data = bbox_data.split(\"\\n\")\n",
    "                _rows = []\n",
    "                for row in bbox_data:\n",
    "                    _row = row.split(\" \")\n",
    "                    if int(_row[0]) < 0 or int(_row[0]) > 6:\n",
    "                        continue\n",
    "                    x_center, y_center, b_width, b_height = float(_row[1]), float(_row[2]), \\\n",
    "                        float(_row[3]), float(_row[4])\n",
    "\n",
    "                    x_center = 0 if x_center < 0 else x_center\n",
    "                    y_center = 0 if y_center < 0 else y_center\n",
    "                    b_width = 0 if b_width < 0 else b_width\n",
    "                    b_height = 0 if b_height < 0 else b_height\n",
    "\n",
    "                    x_center = 1 if x_center > 1 else x_center\n",
    "                    y_center = 1 if y_center > 1 else y_center\n",
    "                    b_width = 1 if b_width > 1 else b_width\n",
    "                    b_height = 1 if b_height > 1 else b_height\n",
    "\n",
    "                    _rows.append(\" \".join([str(_row[0]), str(x_center), str(y_center),\n",
    "                                    str(b_width), str(b_height)]))\n",
    "\n",
    "                data = \"\\n\".join(_rows)\n",
    "                txt_file.seek(0)\n",
    "                txt_file.write(data)\n",
    "                txt_file.truncate()"
   ]
  },
  {
   "cell_type": "code",
   "execution_count": 22,
   "metadata": {},
   "outputs": [
    {
     "name": "stderr",
     "output_type": "stream",
     "text": [
      "/home/imu/anaconda3/envs/yolo/lib/python3.9/site-packages/tqdm/auto.py:22: TqdmWarning: IProgress not found. Please update jupyter and ipywidgets. See https://ipywidgets.readthedocs.io/en/stable/user_install.html\n",
      "  from .autonotebook import tqdm as notebook_tqdm\n"
     ]
    },
    {
     "ename": "UnpicklingError",
     "evalue": "invalid load key, '\\x00'.",
     "output_type": "error",
     "traceback": [
      "\u001b[0;31m---------------------------------------------------------------------------\u001b[0m",
      "\u001b[0;31mUnpicklingError\u001b[0m                           Traceback (most recent call last)",
      "Cell \u001b[0;32mIn [22], line 3\u001b[0m\n\u001b[1;32m      1\u001b[0m \u001b[39mfrom\u001b[39;00m \u001b[39mmodels\u001b[39;00m\u001b[39m.\u001b[39;00m\u001b[39mmodels\u001b[39;00m \u001b[39mimport\u001b[39;00m convert\n\u001b[0;32m----> 3\u001b[0m convert(cfg\u001b[39m=\u001b[39;49m\u001b[39m\"\u001b[39;49m\u001b[39mcfg/yolov4-tiny.cfg\u001b[39;49m\u001b[39m\"\u001b[39;49m, weights\u001b[39m=\u001b[39;49m\u001b[39m'\u001b[39;49m\u001b[39mweights/yolov4-tiny_best.weights\u001b[39;49m\u001b[39m'\u001b[39;49m)\n",
      "File \u001b[0;32m~/work/cv_ml_project/latest/PyTorch_YOLOv4-master/models/models.py:653\u001b[0m, in \u001b[0;36mconvert\u001b[0;34m(cfg, weights, saveto)\u001b[0m\n\u001b[1;32m    647\u001b[0m \u001b[39mdef\u001b[39;00m \u001b[39mconvert\u001b[39m(cfg\u001b[39m=\u001b[39m\u001b[39m'\u001b[39m\u001b[39mcfg/yolov3-spp.cfg\u001b[39m\u001b[39m'\u001b[39m, weights\u001b[39m=\u001b[39m\u001b[39m'\u001b[39m\u001b[39mweights/yolov3-spp.weights\u001b[39m\u001b[39m'\u001b[39m, saveto\u001b[39m=\u001b[39m\u001b[39m'\u001b[39m\u001b[39mconverted.weights\u001b[39m\u001b[39m'\u001b[39m):\n\u001b[1;32m    648\u001b[0m     \u001b[39m# Converts between PyTorch and Darknet format per extension (i.e. *.weights convert to *.pt and vice versa)\u001b[39;00m\n\u001b[1;32m    649\u001b[0m     \u001b[39m# from models import *; convert('cfg/yolov3-spp.cfg', 'weights/yolov3-spp.weights')\u001b[39;00m\n\u001b[1;32m    650\u001b[0m \n\u001b[1;32m    651\u001b[0m     \u001b[39m# Initialize model\u001b[39;00m\n\u001b[1;32m    652\u001b[0m     model \u001b[39m=\u001b[39m Darknet(cfg)\n\u001b[0;32m--> 653\u001b[0m     ckpt \u001b[39m=\u001b[39m torch\u001b[39m.\u001b[39;49mload(weights)  \u001b[39m# load checkpoint\u001b[39;00m\n\u001b[1;32m    654\u001b[0m     \u001b[39mtry\u001b[39;00m:\n\u001b[1;32m    655\u001b[0m         ckpt[\u001b[39m'\u001b[39m\u001b[39mmodel\u001b[39m\u001b[39m'\u001b[39m] \u001b[39m=\u001b[39m {k: v \u001b[39mfor\u001b[39;00m k, v \u001b[39min\u001b[39;00m ckpt[\u001b[39m'\u001b[39m\u001b[39mmodel\u001b[39m\u001b[39m'\u001b[39m]\u001b[39m.\u001b[39mitems() \u001b[39mif\u001b[39;00m model\u001b[39m.\u001b[39mstate_dict()[k]\u001b[39m.\u001b[39mnumel() \u001b[39m==\u001b[39m v\u001b[39m.\u001b[39mnumel()}\n",
      "File \u001b[0;32m~/anaconda3/envs/yolo/lib/python3.9/site-packages/torch/serialization.py:713\u001b[0m, in \u001b[0;36mload\u001b[0;34m(f, map_location, pickle_module, **pickle_load_args)\u001b[0m\n\u001b[1;32m    711\u001b[0m             \u001b[39mreturn\u001b[39;00m torch\u001b[39m.\u001b[39mjit\u001b[39m.\u001b[39mload(opened_file)\n\u001b[1;32m    712\u001b[0m         \u001b[39mreturn\u001b[39;00m _load(opened_zipfile, map_location, pickle_module, \u001b[39m*\u001b[39m\u001b[39m*\u001b[39mpickle_load_args)\n\u001b[0;32m--> 713\u001b[0m \u001b[39mreturn\u001b[39;00m _legacy_load(opened_file, map_location, pickle_module, \u001b[39m*\u001b[39;49m\u001b[39m*\u001b[39;49mpickle_load_args)\n",
      "File \u001b[0;32m~/anaconda3/envs/yolo/lib/python3.9/site-packages/torch/serialization.py:920\u001b[0m, in \u001b[0;36m_legacy_load\u001b[0;34m(f, map_location, pickle_module, **pickle_load_args)\u001b[0m\n\u001b[1;32m    914\u001b[0m \u001b[39mif\u001b[39;00m \u001b[39mnot\u001b[39;00m \u001b[39mhasattr\u001b[39m(f, \u001b[39m'\u001b[39m\u001b[39mreadinto\u001b[39m\u001b[39m'\u001b[39m) \u001b[39mand\u001b[39;00m (\u001b[39m3\u001b[39m, \u001b[39m8\u001b[39m, \u001b[39m0\u001b[39m) \u001b[39m<\u001b[39m\u001b[39m=\u001b[39m sys\u001b[39m.\u001b[39mversion_info \u001b[39m<\u001b[39m (\u001b[39m3\u001b[39m, \u001b[39m8\u001b[39m, \u001b[39m2\u001b[39m):\n\u001b[1;32m    915\u001b[0m     \u001b[39mraise\u001b[39;00m \u001b[39mRuntimeError\u001b[39;00m(\n\u001b[1;32m    916\u001b[0m         \u001b[39m\"\u001b[39m\u001b[39mtorch.load does not work with file-like objects that do not implement readinto on Python 3.8.0 and 3.8.1. \u001b[39m\u001b[39m\"\u001b[39m\n\u001b[1;32m    917\u001b[0m         \u001b[39mf\u001b[39m\u001b[39m\"\u001b[39m\u001b[39mReceived object of type \u001b[39m\u001b[39m\\\"\u001b[39;00m\u001b[39m{\u001b[39;00m\u001b[39mtype\u001b[39m(f)\u001b[39m}\u001b[39;00m\u001b[39m\\\"\u001b[39;00m\u001b[39m. Please update to Python 3.8.2 or newer to restore this \u001b[39m\u001b[39m\"\u001b[39m\n\u001b[1;32m    918\u001b[0m         \u001b[39m\"\u001b[39m\u001b[39mfunctionality.\u001b[39m\u001b[39m\"\u001b[39m)\n\u001b[0;32m--> 920\u001b[0m magic_number \u001b[39m=\u001b[39m pickle_module\u001b[39m.\u001b[39;49mload(f, \u001b[39m*\u001b[39;49m\u001b[39m*\u001b[39;49mpickle_load_args)\n\u001b[1;32m    921\u001b[0m \u001b[39mif\u001b[39;00m magic_number \u001b[39m!=\u001b[39m MAGIC_NUMBER:\n\u001b[1;32m    922\u001b[0m     \u001b[39mraise\u001b[39;00m \u001b[39mRuntimeError\u001b[39;00m(\u001b[39m\"\u001b[39m\u001b[39mInvalid magic number; corrupt file?\u001b[39m\u001b[39m\"\u001b[39m)\n",
      "\u001b[0;31mUnpicklingError\u001b[0m: invalid load key, '\\x00'."
     ]
    }
   ],
   "source": [
    "from models.models import convert\n",
    "\n",
    "convert(cfg=\"cfg/yolov4-tiny.cfg\", weights='weights/yolov4-tiny_best.weights')"
   ]
  }
 ],
 "metadata": {
  "kernelspec": {
   "display_name": "Python 3.9.15 ('yolo')",
   "language": "python",
   "name": "python3"
  },
  "language_info": {
   "codemirror_mode": {
    "name": "ipython",
    "version": 3
   },
   "file_extension": ".py",
   "mimetype": "text/x-python",
   "name": "python",
   "nbconvert_exporter": "python",
   "pygments_lexer": "ipython3",
   "version": "3.9.15"
  },
  "vscode": {
   "interpreter": {
    "hash": "0384c8d62fc780eaf85084c79198ed2f34390ffd7bc3ae7831b4f625614089ca"
   }
  }
 },
 "nbformat": 4,
 "nbformat_minor": 4
}
